{
 "cells": [
  {
   "cell_type": "markdown",
   "metadata": {},
   "source": [
    "<font size=\"6\"><b>Modelling</b></font>"
   ]
  },
  {
   "cell_type": "markdown",
   "metadata": {},
   "source": [
    "<br>\n",
    "<font size=\"3\"><b>Import libraries</b></font>"
   ]
  },
  {
   "cell_type": "code",
   "execution_count": 1,
   "metadata": {},
   "outputs": [],
   "source": [
    "# sklearn\n",
    "from sklearn.naive_bayes import MultinomialNB\n",
    "from sklearn.ensemble import RandomForestClassifier\n",
    "from sklearn.linear_model import LogisticRegression\n",
    "from sklearn.feature_extraction.text import TfidfVectorizer\n",
    "from sklearn.model_selection import train_test_split, GridSearchCV\n",
    "from sklearn.metrics import roc_curve, auc, accuracy_score, f1_score, recall_score, confusion_matrix\n",
    "\n",
    "# xgboost\n",
    "from xgboost import XGBClassifier\n",
    "\n",
    "# nltk\n",
    "from nltk import FreqDist\n",
    "\n",
    "# utilities\n",
    "import pickle\n",
    "import numpy as np\n",
    "import pandas as pd\n",
    "import seaborn as sns\n",
    "import matplotlib.pyplot as plt\n",
    "\n",
    "# preferences\n",
    "pd.set_option('display.max_columns', None)\n",
    "%matplotlib inline"
   ]
  },
  {
   "cell_type": "markdown",
   "metadata": {},
   "source": [
    "<br>\n",
    "<font size=\"3\"><b>Read in dataset and display column and datatype info</b></font>\n",
    "<br>\n",
    "Dataset preprocessed via data_processing.ipynb"
   ]
  },
  {
   "cell_type": "code",
   "execution_count": 2,
   "metadata": {},
   "outputs": [],
   "source": [
    "# read tsv dataset into pandas df\n",
    "filename = 'amazon_reviews_us_Luggage_v1_00'\n",
    "\n",
    "cols = ['TARGET',  #<---ratio of helpful votes to total votes above/below median \n",
    "        'STEM',     #<---lemmas or stemmas ['LEM' or 'STEM']\n",
    "        'CHAR',    #<---number of characters\n",
    "        'NUM',     #<---number of tokens\n",
    "        'WORD',    #<---number of words\n",
    "        'LEN',     #<---average sentence length\n",
    "        'SENT',    #<---number of sentences\n",
    "        'AVG',     #<---sentence length\n",
    "        'INTERRO', #<---number of questionss\n",
    "        'PER',     #<---percent questions\n",
    "        'EXCLAM',  #<---number of exclamations\n",
    "        'COUNT',   #<---number of exclamation points\n",
    "        'CAPS',    #<---percentage of capitalized characters\n",
    "        'MED',     #<---product's median star rating\n",
    "        'FAV',     #<---reviewer's rating vs product's media\n",
    "        'POP']     #<---number of product's review\n",
    "\n",
    "df = pd.read_csv(f'data/{filename}_processed.csv',\n",
    "                 usecols = cols)                "
   ]
  },
  {
   "cell_type": "code",
   "execution_count": 3,
   "metadata": {},
   "outputs": [
    {
     "name": "stdout",
     "output_type": "stream",
     "text": [
      "<class 'pandas.core.frame.DataFrame'>\n",
      "RangeIndex: 12132 entries, 0 to 12131\n",
      "Data columns (total 16 columns):\n",
      "TARGET     12132 non-null int64\n",
      "STEM       12132 non-null object\n",
      "CHAR       12132 non-null int64\n",
      "NUM        12132 non-null int64\n",
      "WORD       12132 non-null int64\n",
      "LEN        12132 non-null float64\n",
      "SENT       12132 non-null int64\n",
      "AVG        12132 non-null float64\n",
      "INTERRO    12132 non-null int64\n",
      "PER        12132 non-null float64\n",
      "EXCLAM     12132 non-null int64\n",
      "COUNT      12132 non-null int64\n",
      "CAPS       12132 non-null float64\n",
      "MED        12132 non-null float64\n",
      "FAV        12132 non-null float64\n",
      "POP        12132 non-null int64\n",
      "dtypes: float64(6), int64(9), object(1)\n",
      "memory usage: 1.5+ MB\n"
     ]
    }
   ],
   "source": [
    "df.info()"
   ]
  },
  {
   "cell_type": "markdown",
   "metadata": {},
   "source": [
    "<br>\n",
    "<font size=\"3\"><b>Preview dataframe</b></font>"
   ]
  },
  {
   "cell_type": "code",
   "execution_count": 4,
   "metadata": {},
   "outputs": [
    {
     "data": {
      "text/html": [
       "<div>\n",
       "<style scoped>\n",
       "    .dataframe tbody tr th:only-of-type {\n",
       "        vertical-align: middle;\n",
       "    }\n",
       "\n",
       "    .dataframe tbody tr th {\n",
       "        vertical-align: top;\n",
       "    }\n",
       "\n",
       "    .dataframe thead th {\n",
       "        text-align: right;\n",
       "    }\n",
       "</style>\n",
       "<table border=\"1\" class=\"dataframe\">\n",
       "  <thead>\n",
       "    <tr style=\"text-align: right;\">\n",
       "      <th></th>\n",
       "      <th>TARGET</th>\n",
       "      <th>STEM</th>\n",
       "      <th>CHAR</th>\n",
       "      <th>NUM</th>\n",
       "      <th>WORD</th>\n",
       "      <th>LEN</th>\n",
       "      <th>SENT</th>\n",
       "      <th>AVG</th>\n",
       "      <th>INTERRO</th>\n",
       "      <th>PER</th>\n",
       "      <th>EXCLAM</th>\n",
       "      <th>COUNT</th>\n",
       "      <th>CAPS</th>\n",
       "      <th>MED</th>\n",
       "      <th>FAV</th>\n",
       "      <th>POP</th>\n",
       "    </tr>\n",
       "  </thead>\n",
       "  <tbody>\n",
       "    <tr>\n",
       "      <th>0</th>\n",
       "      <td>0</td>\n",
       "      <td>['strap', 'broke', 'suppos', 'anti', 'theft', ...</td>\n",
       "      <td>318</td>\n",
       "      <td>25</td>\n",
       "      <td>63</td>\n",
       "      <td>5.047619</td>\n",
       "      <td>6</td>\n",
       "      <td>10.500000</td>\n",
       "      <td>1</td>\n",
       "      <td>0.166667</td>\n",
       "      <td>2</td>\n",
       "      <td>3</td>\n",
       "      <td>0.031447</td>\n",
       "      <td>4.0</td>\n",
       "      <td>-3.0</td>\n",
       "      <td>15</td>\n",
       "    </tr>\n",
       "    <tr>\n",
       "      <th>1</th>\n",
       "      <td>0</td>\n",
       "      <td>['product', 'absolut', 'beauti', 'order', 'lar...</td>\n",
       "      <td>437</td>\n",
       "      <td>39</td>\n",
       "      <td>80</td>\n",
       "      <td>5.462500</td>\n",
       "      <td>9</td>\n",
       "      <td>8.888889</td>\n",
       "      <td>1</td>\n",
       "      <td>0.111111</td>\n",
       "      <td>1</td>\n",
       "      <td>2</td>\n",
       "      <td>0.048055</td>\n",
       "      <td>5.0</td>\n",
       "      <td>0.0</td>\n",
       "      <td>1</td>\n",
       "    </tr>\n",
       "    <tr>\n",
       "      <th>2</th>\n",
       "      <td>0</td>\n",
       "      <td>['review', 'iblu', 'overs', 'leather', 'canva'...</td>\n",
       "      <td>1951</td>\n",
       "      <td>193</td>\n",
       "      <td>351</td>\n",
       "      <td>5.558405</td>\n",
       "      <td>15</td>\n",
       "      <td>23.400000</td>\n",
       "      <td>1</td>\n",
       "      <td>0.066667</td>\n",
       "      <td>6</td>\n",
       "      <td>9</td>\n",
       "      <td>0.033316</td>\n",
       "      <td>5.0</td>\n",
       "      <td>0.0</td>\n",
       "      <td>1</td>\n",
       "    </tr>\n",
       "  </tbody>\n",
       "</table>\n",
       "</div>"
      ],
      "text/plain": [
       "   TARGET                                               STEM  CHAR  NUM  WORD  \\\n",
       "0       0  ['strap', 'broke', 'suppos', 'anti', 'theft', ...   318   25    63   \n",
       "1       0  ['product', 'absolut', 'beauti', 'order', 'lar...   437   39    80   \n",
       "2       0  ['review', 'iblu', 'overs', 'leather', 'canva'...  1951  193   351   \n",
       "\n",
       "        LEN  SENT        AVG  INTERRO       PER  EXCLAM  COUNT      CAPS  MED  \\\n",
       "0  5.047619     6  10.500000        1  0.166667       2      3  0.031447  4.0   \n",
       "1  5.462500     9   8.888889        1  0.111111       1      2  0.048055  5.0   \n",
       "2  5.558405    15  23.400000        1  0.066667       6      9  0.033316  5.0   \n",
       "\n",
       "   FAV  POP  \n",
       "0 -3.0   15  \n",
       "1  0.0    1  \n",
       "2  0.0    1  "
      ]
     },
     "execution_count": 4,
     "metadata": {},
     "output_type": "execute_result"
    }
   ],
   "source": [
    "df.head(3)"
   ]
  },
  {
   "cell_type": "markdown",
   "metadata": {},
   "source": [
    "<br>\n",
    "<font size=\"4\"><b>Step 1:</b> Combine TF-IDF vectors with extracted features and split train and test sets</font>"
   ]
  },
  {
   "cell_type": "code",
   "execution_count": 5,
   "metadata": {},
   "outputs": [],
   "source": [
    "# set X to df and drop TARGET, set y to TARGET, and split train and test sets (80/20)\n",
    "X = df.drop(columns=['TARGET'])\n",
    "y = df.TARGET\n",
    "\n",
    "X_train, X_test, y_train, y_test = train_test_split(X, y, test_size=0.20, random_state=0)"
   ]
  },
  {
   "cell_type": "code",
   "execution_count": 6,
   "metadata": {},
   "outputs": [
    {
     "name": "stdout",
     "output_type": "stream",
     "text": [
      "Average number of NON-ZERO elements per vectorized review: 19.44183410613086\n"
     ]
    }
   ],
   "source": [
    "# vectorize and drop LEM or STEM \n",
    "vectorizer = TfidfVectorizer(ngram_range=(1, 2),    #<--- compare unigrams and bigrams\n",
    "                             max_df=.9, min_df=.1)  #<--- drop top/bottom 10% most common tokens\n",
    "\n",
    "tfidf_train = vectorizer.fit_transform(X_train.STEM) #<---df.LEM or df.STEM\n",
    "tfidf_test = vectorizer.transform(X_test.STEM)       #<---df.LEM or df.STEM\n",
    "\n",
    "X_train = X_train.drop(columns=['STEM'])             #<---df.LEM or df.STEM\n",
    "X_test = X_test.drop(columns=['STEM'])               #<---df.LEM or df.STEM\n",
    "\n",
    "# check tfidf sparsity\n",
    "print(\n",
    "    f\"Average number of NON-ZERO elements per vectorized review: {tfidf_train.nnz / float(tfidf_train.shape[0])}\"\n",
    ")"
   ]
  },
  {
   "cell_type": "code",
   "execution_count": 7,
   "metadata": {},
   "outputs": [],
   "source": [
    "# convert tfidf to array and concatenate train and test sets\n",
    "X_train = pd.concat([pd.DataFrame(tfidf_train.toarray()), X_train.reset_index()], axis = 1)\n",
    "X_test = pd.concat([pd.DataFrame(tfidf_test.toarray()), X_test.reset_index()], axis = 1)"
   ]
  },
  {
   "cell_type": "markdown",
   "metadata": {},
   "source": [
    "<br>\n",
    "<font size=\"4\"><b>Step 2:</b> Optimize random forest and XGBoost classifiers with gridsearch</font>"
   ]
  },
  {
   "cell_type": "code",
   "execution_count": 8,
   "metadata": {},
   "outputs": [
    {
     "data": {
      "text/plain": [
       "'UNCOMMENT BELOW TO RUN RANDOM FOREST GRID SEARCH'"
      ]
     },
     "execution_count": 8,
     "metadata": {},
     "output_type": "execute_result"
    }
   ],
   "source": [
    "\"\"\"UNCOMMENT BELOW TO RUN RANDOM FOREST GRID SEARCH\"\"\"\n",
    "# # create dictionary of parameters to tune\n",
    "# param_grid = {'n_estimators': [100, 500],\n",
    "#               'criterion': ['gini', 'entropy'],\n",
    "#               'max_depth': [None, 2, 10],\n",
    "#               'max_features': [None, 4, 16, 24]}\n",
    "\n",
    "# # create grid search object and fit to data\n",
    "# grid_forest = GridSearchCV(RandomForestClassifier(random_state=42),\n",
    "#                            param_grid,\n",
    "#                            cv=2,\n",
    "#                            scoring='f1',\n",
    "#                            verbose=1,\n",
    "#                            n_jobs=16)\n",
    "\n",
    "# grid_forest.fit(X_train, y_train)\n",
    "\n",
    "# # pickle grid parameters\n",
    "# pickle_out = open(\"rf_grid.pickle\",\"wb\")\n",
    "# pickle.dump(grid_forest, pickle_out)\n",
    "# pickle_out.close()"
   ]
  },
  {
   "cell_type": "code",
   "execution_count": 9,
   "metadata": {},
   "outputs": [
    {
     "data": {
      "text/plain": [
       "'UNCOMMENT BELOW TO RUN XGBOOST GRID SEARCH'"
      ]
     },
     "execution_count": 9,
     "metadata": {},
     "output_type": "execute_result"
    }
   ],
   "source": [
    "\"\"\"UNCOMMENT BELOW TO RUN XGBOOST GRID SEARCH\"\"\"\n",
    "# # create dictionary of parameters to tune\n",
    "# param_grid = {'learning_rate': [0.1, 0.2],\n",
    "#               'max_depth': [6],\n",
    "#               'min_child_weight': [1, 2],\n",
    "#               'subsample': [0.5, 0.7],\n",
    "#               'n_estimators': [100]}\n",
    "\n",
    "\n",
    "# # create grid search object and fit to data\n",
    "# grid_boost = GridSearchCV(XGBClassifier(random_state=42),\n",
    "#                            param_grid,\n",
    "#                            cv=2,\n",
    "#                            scoring='f1',\n",
    "#                            verbose=1,\n",
    "#                            n_jobs=16)\n",
    "\n",
    "# grid_boost.fit(X_train, y_train)\n",
    "\n",
    "# # pickle grid parameters\n",
    "# pickle_out = open(\"xgb_grid.pickle\",\"wb\")\n",
    "# pickle.dump(grid_boost, pickle_out)\n",
    "# pickle_out.close()"
   ]
  },
  {
   "cell_type": "code",
   "execution_count": 10,
   "metadata": {},
   "outputs": [
    {
     "name": "stdout",
     "output_type": "stream",
     "text": [
      "entropy 2 None 500\n",
      "0.1 6 1 0.7 100\n"
     ]
    }
   ],
   "source": [
    "# load grid parameters\n",
    "grid_forest = pd.read_pickle('rf_grid.pickle')\n",
    "grid_boost = pd.read_pickle('xgb_grid.pickle')\n",
    "\n",
    "print(grid_forest.best_params_['criterion'],\n",
    "      grid_forest.best_params_['max_depth'],\n",
    "      grid_forest.best_params_['max_features'],\n",
    "      grid_forest.best_params_['n_estimators'])\n",
    "\n",
    "print(grid_boost.best_params_['learning_rate'],\n",
    "      grid_boost.best_params_['max_depth'],\n",
    "      grid_boost.best_params_['min_child_weight'],\n",
    "      grid_boost.best_params_['subsample'],\n",
    "      grid_boost.best_params_['n_estimators'])"
   ]
  },
  {
   "cell_type": "markdown",
   "metadata": {},
   "source": [
    "<br>\n",
    "<font size=\"4\"><b>Step 3:</b> Fit and predict on classifiers</font>"
   ]
  },
  {
   "cell_type": "code",
   "execution_count": 11,
   "metadata": {},
   "outputs": [],
   "source": [
    "# instantiate random forest classifier\n",
    "rf_classifier = RandomForestClassifier(criterion = grid_forest.best_params_['criterion'],\n",
    "                                       max_depth = grid_forest.best_params_['max_depth'],\n",
    "                                       max_features = grid_forest.best_params_['max_features'],\n",
    "                                       n_estimators = grid_forest.best_params_['n_estimators'],\n",
    "                                       random_state = 42)\n",
    "\n",
    "# instantiate xgboost classifier\n",
    "xgb_classifier = XGBClassifier(learning_rate = grid_boost.best_params_['learning_rate'],\n",
    "                               max_depth = grid_boost.best_params_['max_depth'],\n",
    "                               max_child_weight = grid_boost.best_params_['min_child_weight'],\n",
    "                               subsample = grid_boost.best_params_['subsample'],\n",
    "                               n_estimators = grid_boost.best_params_['n_estimators'],\n",
    "                               random_state = 42)"
   ]
  },
  {
   "cell_type": "code",
   "execution_count": 12,
   "metadata": {},
   "outputs": [],
   "source": [
    "# fit and predict on random forest classifier\n",
    "rf_classifier.fit(X_train, y_train)\n",
    "rf_train_preds = rf_classifier.predict(X_train)\n",
    "rf_test_preds = rf_classifier.predict(X_test)\n",
    "\n",
    "# fit and predict on xgboost classifier\n",
    "xgb_classifier.fit(X_train, y_train)\n",
    "xgb_train_preds = xgb_classifier.predict(X_train)\n",
    "xgb_test_preds = xgb_classifier.predict(X_test)"
   ]
  },
  {
   "cell_type": "markdown",
   "metadata": {},
   "source": [
    "<br>\n",
    "<font size=\"3\"><b>Evaluate models</b></font>"
   ]
  },
  {
   "cell_type": "code",
   "execution_count": 13,
   "metadata": {},
   "outputs": [
    {
     "name": "stdout",
     "output_type": "stream",
     "text": [
      "Random Forest\n",
      "Training Accuracy: 0.6013 Testing Accuracy: 0.604\n",
      "Training Recall: 0.7055 Testing Recall: 0.6951\n",
      "Training F1: 0.6365 Testing F1: 0.6383\n",
      "XGBoost\n",
      "Training Accuracy: 0.837 Testing Accuracy: 0.6135\n",
      "Training Recall: 0.8415 Testing Recall: 0.6049\n",
      "Training F1: 0.8363 Testing F1: 0.6114\n"
     ]
    }
   ],
   "source": [
    "# random forest metrics\n",
    "print('Random Forest')\n",
    "print(f\"Training Accuracy: {accuracy_score(y_train, rf_train_preds):.4}\",\n",
    "      f\"Testing Accuracy: {accuracy_score(y_test, rf_test_preds):.4}\")\n",
    "\n",
    "print(f\"Training Recall: {recall_score(y_train, rf_train_preds):.4}\",\n",
    "      f\"Testing Recall: {recall_score(y_test, rf_test_preds):.4}\")\n",
    "\n",
    "print(f\"Training F1: {f1_score(y_train, rf_train_preds):.4}\",\n",
    "      f\"Testing F1: {f1_score(y_test, rf_test_preds):.4}\")\n",
    "\n",
    "# xgboost metrics\n",
    "print('XGBoost')\n",
    "print(f\"Training Accuracy: {accuracy_score(y_train, xgb_train_preds):.4}\",\n",
    "      f\"Testing Accuracy: {accuracy_score(y_test, xgb_test_preds):.4}\")\n",
    "\n",
    "print(f\"Training Recall: {recall_score(y_train, xgb_train_preds):.4}\",\n",
    "      f\"Testing Recall: {recall_score(y_test, xgb_test_preds):.4}\")\n",
    "\n",
    "print(f\"Training F1: {f1_score(y_train, xgb_train_preds):.4}\",\n",
    "      f\"Testing F1: {f1_score(y_test, xgb_test_preds):.4}\")\n"
   ]
  },
  {
   "cell_type": "code",
   "execution_count": 14,
   "metadata": {},
   "outputs": [
    {
     "data": {
      "image/png": "[encoded data removed]",
      "text/plain": [
       "<Figure size 432x288 with 2 Axes>"
      ]
     },
     "metadata": {
      "needs_background": "light"
     },
     "output_type": "display_data"
    },
    {
     "data": {
      "image/png": "[encoded data removed]",
      "text/plain": [
       "<Figure size 432x288 with 2 Axes>"
      ]
     },
     "metadata": {
      "needs_background": "light"
     },
     "output_type": "display_data"
    }
   ],
   "source": [
    "# random forest confusion matrix\n",
    "mat = confusion_matrix(y_test, rf_test_preds)\n",
    "sns.heatmap(mat.T,\n",
    "            square=True,\n",
    "            annot=True,\n",
    "            fmt='d',\n",
    "            cbar=True,\n",
    "            xticklabels=['Helpful', 'Unhelpful'],\n",
    "            yticklabels=['Helpful', 'Unhelpful'])\n",
    "\n",
    "plt.xlabel('true label')\n",
    "plt.ylabel('predicted label')\n",
    "plt.show()\n",
    "\n",
    "# xgboost confusion matrix\n",
    "mat = confusion_matrix(y_test, xgb_test_preds)\n",
    "sns.heatmap(mat.T,\n",
    "            square=True,\n",
    "            annot=True,\n",
    "            fmt='d',\n",
    "            cbar=True,\n",
    "            xticklabels=['Helpful', 'Unhelpful'],\n",
    "            yticklabels=['Helpful', 'Unhelpful'])\n",
    "\n",
    "plt.xlabel('true label')\n",
    "plt.ylabel('predicted label')\n",
    "plt.show()"
   ]
  }
 ],
 "metadata": {
  "kernelspec": {
   "display_name": "learn-env",
   "language": "python",
   "name": "learn-env"
  },
  "language_info": {
   "codemirror_mode": {
    "name": "ipython",
    "version": 3
   },
   "file_extension": ".py",
   "mimetype": "text/x-python",
   "name": "python",
   "nbconvert_exporter": "python",
   "pygments_lexer": "ipython3",
   "version": "3.6.9"
  },
  "toc": {
   "base_numbering": 1,
   "nav_menu": {},
   "number_sections": true,
   "sideBar": true,
   "skip_h1_title": false,
   "title_cell": "Table of Contents",
   "title_sidebar": "Contents",
   "toc_cell": false,
   "toc_position": {},
   "toc_section_display": true,
   "toc_window_display": false
  },
  "varInspector": {
   "cols": {
    "lenName": 16,
    "lenType": 16,
    "lenVar": 40
   },
   "kernels_config": {
    "python": {
     "delete_cmd_postfix": "",
     "delete_cmd_prefix": "del ",
     "library": "var_list.py",
     "varRefreshCmd": "print(var_dic_list())"
    },
    "r": {
     "delete_cmd_postfix": ") ",
     "delete_cmd_prefix": "rm(",
     "library": "var_list.r",
     "varRefreshCmd": "cat(var_dic_list()) "
    }
   },
   "types_to_exclude": [
    "module",
    "function",
    "builtin_function_or_method",
    "instance",
    "_Feature"
   ],
   "window_display": false
  }
 },
 "nbformat": 4,
 "nbformat_minor": 4
}
